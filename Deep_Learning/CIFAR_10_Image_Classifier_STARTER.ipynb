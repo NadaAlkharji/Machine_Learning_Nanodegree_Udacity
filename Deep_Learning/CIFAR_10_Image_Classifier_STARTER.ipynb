{
  "cells": [
    {
      "cell_type": "markdown",
      "metadata": {
        "id": "SoaBbr3qqxHt"
      },
      "source": [
        "# Introduction\n",
        "\n",
        "In this project, you will build a neural network of your own design to evaluate the CIFAR-10 dataset.\n",
        "\n",
        "To meet the requirements for this project, you will need to achieve an accuracy greater than 45%.\n",
        "If you want to beat Detectocorp's algorithm, you'll need to achieve an accuracy greater than 70%.\n",
        "(Beating Detectocorp's algorithm is not a requirement for passing this project, but you're encouraged to try!)\n",
        "\n",
        "Some of the benchmark results on CIFAR-10 include:\n",
        "\n",
        "78.9% Accuracy | [Deep Belief Networks; Krizhevsky, 2010](https://www.cs.toronto.edu/~kriz/conv-cifar10-aug2010.pdf)\n",
        "\n",
        "90.6% Accuracy | [Maxout Networks; Goodfellow et al., 2013](https://arxiv.org/pdf/1302.4389.pdf)\n",
        "\n",
        "96.0% Accuracy | [Wide Residual Networks; Zagoruyko et al., 2016](https://arxiv.org/pdf/1605.07146.pdf)\n",
        "\n",
        "99.0% Accuracy | [GPipe; Huang et al., 2018](https://arxiv.org/pdf/1811.06965.pdf)\n",
        "\n",
        "98.5% Accuracy | [Rethinking Recurrent Neural Networks and other Improvements for ImageClassification; Nguyen et al., 2020](https://arxiv.org/pdf/2007.15161.pdf)\n",
        "\n",
        "Research with this dataset is ongoing. Notably, many of these networks are quite large and quite expensive to train.\n",
        "\n",
        "## Imports"
      ]
    },
    {
      "cell_type": "code",
      "execution_count": null,
      "metadata": {
        "id": "eZNBM2z3qxHv"
      },
      "outputs": [],
      "source": [
        "## This cell contains the essential imports you will need – DO NOT CHANGE THE CONTENTS! ##\n",
        "import torch\n",
        "import torch.nn as nn\n",
        "import torch.nn.functional as F\n",
        "import torch.optim as optim\n",
        "import torchvision\n",
        "import torchvision.transforms as transforms\n",
        "import matplotlib.pyplot as plt\n",
        "import numpy as np\n",
        "from torch.autograd import Variable\n",
        "# %matplotlib inline"
      ]
    },
    {
      "cell_type": "markdown",
      "metadata": {
        "id": "95wonOJuqxHx"
      },
      "source": [
        "## Load the Dataset\n",
        "\n",
        "Specify your transforms as a list first.\n",
        "The transforms module is already loaded as `transforms`.\n",
        "\n",
        "CIFAR-10 is fortunately included in the torchvision module.\n",
        "Then, you can create your dataset using the `CIFAR10` object from `torchvision.datasets` ([the documentation is available here](https://pytorch.org/vision/stable/generated/torchvision.datasets.CIFAR10.html)).\n",
        "Make sure to specify `download=True`!\n",
        "\n",
        "Once your dataset is created, you'll also need to define a `DataLoader` from the `torch.utils.data` module for both the train and the test set."
      ]
    },
    {
      "cell_type": "code",
      "execution_count": null,
      "metadata": {
        "colab": {
          "base_uri": "https://localhost:8080/"
        },
        "id": "Y4ZEbu62qxHx",
        "outputId": "1b5dafd3-5417-435e-ecc2-c39483e72a30"
      },
      "outputs": [
        {
          "output_type": "stream",
          "name": "stdout",
          "text": [
            "Downloading https://www.cs.toronto.edu/~kriz/cifar-10-python.tar.gz to ./data/cifar-10-python.tar.gz\n"
          ]
        },
        {
          "output_type": "stream",
          "name": "stderr",
          "text": [
            "100%|██████████| 170M/170M [00:02<00:00, 76.7MB/s]\n"
          ]
        },
        {
          "output_type": "stream",
          "name": "stdout",
          "text": [
            "Extracting ./data/cifar-10-python.tar.gz to ./data\n"
          ]
        },
        {
          "output_type": "stream",
          "name": "stderr",
          "text": [
            "/usr/local/lib/python3.11/dist-packages/torch/utils/data/dataloader.py:617: UserWarning: This DataLoader will create 3 worker processes in total. Our suggested max number of worker in current system is 2, which is smaller than what this DataLoader is going to create. Please be aware that excessive worker creation might get DataLoader running slow or even freeze, lower the worker number to avoid potential slowness/freeze if necessary.\n",
            "  warnings.warn(\n"
          ]
        },
        {
          "output_type": "stream",
          "name": "stdout",
          "text": [
            "Files already downloaded and verified\n"
          ]
        }
      ],
      "source": [
        "# Define transforms\n",
        "## YOUR CODE HERE ##\n",
        "\n",
        "# Set random seed\n",
        "torch.manual_seed(7)\n",
        "\n",
        "# Training transform\n",
        "# Here, the data is being augmented to help improve the model's ability to generalize on unseen data.\n",
        "train_transform = transforms.Compose(\n",
        "    [transforms.RandomCrop(32, padding = 4),\n",
        "     transforms.RandomVerticalFlip(0.5),\n",
        "     transforms.RandomHorizontalFlip(),\n",
        "     transforms.ToTensor(),\n",
        "     transforms.Normalize((0.5, 0.5, 0.5), (0.5, 0.5, 0.5))])\n",
        "\n",
        "# Testing transform\n",
        "test_transform = transforms.Compose([transforms.ToTensor(),\n",
        "                                    transforms.Normalize((0.5, 0.5, 0.5), (0.5, 0.5, 0.5))])\n",
        "\n",
        "# Create training set and define training dataloader\n",
        "## YOUR CODE HERE ##\n",
        "# Training dataset\n",
        "trainset = torchvision.datasets.CIFAR10(root='./data', train=True,\n",
        "                                        transform=train_transform, download=True)\n",
        "trainloader = torch.utils.data.DataLoader(trainset, batch_size=5,\n",
        "                                         num_workers=3, shuffle=True)\n",
        "\n",
        "# Create test set and define test dataloader\n",
        "## YOUR CODE HERE ##\n",
        "# Testing dataset\n",
        "testset = torchvision.datasets.CIFAR10(root='./data', train=False,\n",
        "                                       transform=test_transform, download=True)\n",
        "testloader = torch.utils.data.DataLoader(testset, batch_size=5,\n",
        "                                         num_workers=3, shuffle=False)\n",
        "\n",
        "\n",
        "# The 10 classes in the dataset\n",
        "classes = ('plane', 'car', 'bird', 'cat', 'deer', 'dog', 'frog', 'horse', 'ship', 'truck')"
      ]
    },
    {
      "cell_type": "markdown",
      "metadata": {
        "id": "yGnBCCJKqxHx"
      },
      "source": [
        "## Explore the Dataset\n",
        "Using matplotlib, numpy, and torch, explore the dimensions of your data.\n",
        "\n",
        "You can view images using the `show5` function defined below – it takes a data loader as an argument.\n",
        "Remember that normalized images will look really weird to you! You may want to try changing your transforms to view images.\n",
        "Typically using no transforms other than `toTensor()` works well for viewing – but not as well for training your network.\n",
        "If `show5` doesn't work, go back and check your code for creating your data loaders and your training/test sets."
      ]
    },
    {
      "cell_type": "code",
      "execution_count": null,
      "metadata": {
        "id": "3ea8db0FqxHy"
      },
      "outputs": [],
      "source": [
        "def show5(img_loader):\n",
        "    batch = next(iter(img_loader))\n",
        "    labels = batch[1][0:5]\n",
        "    images = batch[0][0:5]\n",
        "    for i in range(5):\n",
        "        print(classes[labels[i]])\n",
        "        image = images[i].numpy()\n",
        "        plt.imshow(np.rot90(image.T, k=3))\n",
        "        plt.show()"
      ]
    },
    {
      "cell_type": "code",
      "execution_count": null,
      "metadata": {
        "colab": {
          "base_uri": "https://localhost:8080/",
          "height": 1000
        },
        "id": "x0hv9Wh5qxHy",
        "outputId": "055025fc-e684-44d7-b34e-c30f154e00c1"
      },
      "outputs": [
        {
          "output_type": "stream",
          "name": "stderr",
          "text": [
            "WARNING:matplotlib.image:Clipping input data to the valid range for imshow with RGB data ([0..1] for floats or [0..255] for integers). Got range [-1.0..0.90588236].\n"
          ]
        },
        {
          "output_type": "stream",
          "name": "stdout",
          "text": [
            "cat\n"
          ]
        },
        {
          "output_type": "display_data",
          "data": {
            "text/plain": [
              "<Figure size 640x480 with 1 Axes>"
            ],
            "image/png": "[encoded data removed]"
          },
          "metadata": {}
        },
        {
          "output_type": "stream",
          "name": "stderr",
          "text": [
            "WARNING:matplotlib.image:Clipping input data to the valid range for imshow with RGB data ([0..1] for floats or [0..255] for integers). Got range [-1.0..0.9764706].\n"
          ]
        },
        {
          "output_type": "stream",
          "name": "stdout",
          "text": [
            "car\n"
          ]
        },
        {
          "output_type": "display_data",
          "data": {
            "text/plain": [
              "<Figure size 640x480 with 1 Axes>"
            ],
            "image/png": "[encoded data removed]"
          },
          "metadata": {}
        },
        {
          "output_type": "stream",
          "name": "stderr",
          "text": [
            "WARNING:matplotlib.image:Clipping input data to the valid range for imshow with RGB data ([0..1] for floats or [0..255] for integers). Got range [-1.0..0.90588236].\n"
          ]
        },
        {
          "output_type": "stream",
          "name": "stdout",
          "text": [
            "cat\n"
          ]
        },
        {
          "output_type": "display_data",
          "data": {
            "text/plain": [
              "<Figure size 640x480 with 1 Axes>"
            ],
            "image/png": "[encoded data removed]"
          },
          "metadata": {}
        },
        {
          "output_type": "stream",
          "name": "stderr",
          "text": [
            "WARNING:matplotlib.image:Clipping input data to the valid range for imshow with RGB data ([0..1] for floats or [0..255] for integers). Got range [-1.0..0.9372549].\n"
          ]
        },
        {
          "output_type": "stream",
          "name": "stdout",
          "text": [
            "frog\n"
          ]
        },
        {
          "output_type": "display_data",
          "data": {
            "text/plain": [
              "<Figure size 640x480 with 1 Axes>"
            ],
            "image/png": "[encoded data removed]"
          },
          "metadata": {}
        },
        {
          "output_type": "stream",
          "name": "stderr",
          "text": [
            "WARNING:matplotlib.image:Clipping input data to the valid range for imshow with RGB data ([0..1] for floats or [0..255] for integers). Got range [-1.0..1.0].\n"
          ]
        },
        {
          "output_type": "stream",
          "name": "stdout",
          "text": [
            "dog\n"
          ]
        },
        {
          "output_type": "display_data",
          "data": {
            "text/plain": [
              "<Figure size 640x480 with 1 Axes>"
            ],
            "image/png": "[encoded data removed]"
          },
          "metadata": {}
        }
      ],
      "source": [
        "# Explore data\n",
        "## YOUR CODE HERE ##\n",
        "show5(trainloader)"
      ]
    },
    {
      "cell_type": "markdown",
      "metadata": {
        "id": "gAC4rIsMqxHz"
      },
      "source": [
        "## Build your Neural Network\n",
        "Using the layers in `torch.nn` (which has been imported as `nn`) and the `torch.nn.functional` module (imported as `F`), construct a neural network based on the parameters of the dataset.\n",
        "Feel free to construct a model of any architecture – feedforward, convolutional, or even something more advanced!"
      ]
    },
    {
      "cell_type": "code",
      "execution_count": null,
      "metadata": {
        "id": "-j1GhvOeqxHz"
      },
      "outputs": [],
      "source": [
        "## YOUR CODE HERE ##\n",
        "# Building the neural network\n",
        "class Net(nn.Module):\n",
        "    def __init__(self):\n",
        "        super(Net, self).__init__()\n",
        "        self.conv1 = nn.Conv2d(3, 24, 3)\n",
        "        self.pool = nn.MaxPool2d(2, 2)\n",
        "        self.conv2 = nn.Conv2d(24, 34, 3)\n",
        "        self.fc1 = nn.Linear(34 * 6 * 6, 100)\n",
        "        self.fc2 = nn.Linear(100, 80)\n",
        "        self.fc3 = nn.Linear(80, 10)\n",
        "\n",
        "    def forward(self, x):\n",
        "        x = self.pool(F.relu(self.conv1(x)))\n",
        "        x = self.pool(F.relu(self.conv2(x)))\n",
        "        x = x.view(-1, 34 * 6 * 6)\n",
        "        x = F.relu(self.fc1(x))\n",
        "        x = F.relu(self.fc2(x))\n",
        "        x = F.dropout(x, training=self.training)\n",
        "        x = self.fc3(x)\n",
        "        return x"
      ]
    },
    {
      "cell_type": "markdown",
      "metadata": {
        "id": "3LQqDfXcqxHz"
      },
      "source": [
        "Specify a loss function and an optimizer, and instantiate the model.\n",
        "\n",
        "If you use a less common loss function, please note why you chose that loss function in a comment."
      ]
    },
    {
      "cell_type": "code",
      "execution_count": null,
      "metadata": {
        "colab": {
          "base_uri": "https://localhost:8080/"
        },
        "id": "elsVcxLcqxH0",
        "outputId": "9de5f770-36b0-47a4-b039-6aa2766e0523"
      },
      "outputs": [
        {
          "output_type": "stream",
          "name": "stdout",
          "text": [
            "Running on cpu\n"
          ]
        }
      ],
      "source": [
        "## YOUR CODE HERE ##\n",
        "# Create instance of Net() class for my model\n",
        "net = Net()\n",
        "\n",
        "# Conditional included for GPU or CPU\n",
        "device = torch.device(\"cuda:0\" if torch.cuda.is_available() else \"cpu\")\n",
        "print(\"Running on\", device)\n",
        "\n",
        "net.to(device)\n",
        "\n",
        "# Loss function and stochastic gradient descent optimizer\n",
        "criterion = nn.CrossEntropyLoss()\n",
        "optimizer = optim.SGD(net.parameters(), lr=0.001, momentum=0.9)"
      ]
    },
    {
      "cell_type": "markdown",
      "metadata": {
        "id": "hJLodBEdqxH0"
      },
      "source": [
        "## Running your Neural Network\n",
        "Use whatever method you like to train your neural network, and ensure you record the average loss at each epoch.\n",
        "Don't forget to use `torch.device()` and the `.to()` method for both your model and your data if you are using GPU!\n",
        "\n",
        "If you want to print your loss during each epoch, you can use the `enumerate` function and print the loss after a set number of batches. 250 batches works well for most people!"
      ]
    },
    {
      "cell_type": "code",
      "execution_count": null,
      "metadata": {
        "colab": {
          "base_uri": "https://localhost:8080/"
        },
        "id": "avrISYBnqxH0",
        "outputId": "0bf765ec-93c0-42c4-e4db-06006226a6a5"
      },
      "outputs": [
        {
          "output_type": "stream",
          "name": "stdout",
          "text": [
            "[1,  2000] loss: 2.243\n",
            "[1,  4000] loss: 2.052\n",
            "[1,  6000] loss: 1.937\n",
            "[1,  8000] loss: 1.872\n",
            "[1, 10000] loss: 1.803\n",
            "[2,  2000] loss: 1.766\n",
            "[2,  4000] loss: 1.705\n",
            "[2,  6000] loss: 1.686\n",
            "[2,  8000] loss: 1.646\n",
            "[2, 10000] loss: 1.614\n",
            "Finished Training\n"
          ]
        }
      ],
      "source": [
        "## YOUR CODE HERE ##\n",
        "for epoch in range(2):\n",
        "    running_loss = 0.0\n",
        "    for i, data in enumerate(trainloader, 0):\n",
        "        inputs, labels = data\n",
        "        inputs, labels = Variable(inputs.to(device)), Variable(labels.to(device))\n",
        "        optimizer.zero_grad()\n",
        "        outputs = net(inputs)\n",
        "        loss = criterion(outputs, labels)\n",
        "        loss.backward()\n",
        "        optimizer.step()\n",
        "        running_loss += loss.item()\n",
        "        if i % 2000 == 1999:    # print every 2000 mini-batches\n",
        "            print(f'[{epoch + 1}, {i + 1:5d}] loss: {running_loss / 2000:.3f}')\n",
        "            running_loss = 0.0\n",
        "print('Finished Training')"
      ]
    },
    {
      "cell_type": "markdown",
      "metadata": {
        "id": "pdQyj_qDqxH0"
      },
      "source": [
        "Plot the training loss (and validation loss/accuracy, if recorded)."
      ]
    },
    {
      "cell_type": "code",
      "execution_count": null,
      "metadata": {
        "colab": {
          "base_uri": "https://localhost:8080/",
          "height": 472
        },
        "id": "qU-B-Yl1qxH0",
        "outputId": "074a8a20-756d-4d81-bf0d-dc7399d30414"
      },
      "outputs": [
        {
          "output_type": "display_data",
          "data": {
            "text/plain": [
              "<Figure size 640x480 with 1 Axes>"
            ],
            "image/png": "[encoded data removed]"
          },
          "metadata": {}
        }
      ],
      "source": [
        "## YOUR CODE HERE ##\n",
        "# Plotting the training loss\n",
        "\n",
        "running_loss = [2.243, 2.052, 1.937, 1.872, 1.803, 1.766, 1.705, 1.686, 1.646, 1.614]\n",
        "\n",
        "plt.title('Training Loss vs Epoch')\n",
        "plt.plot(range(1,len(running_loss)+1), running_loss, 'ro-')\n",
        "plt.xlabel('Epoch')\n",
        "plt.ylabel('Training Loss')\n",
        "plt.show()"
      ]
    },
    {
      "cell_type": "markdown",
      "metadata": {
        "id": "nETJKSWBqxH1"
      },
      "source": [
        "## Testing your model\n",
        "Using the previously created `DataLoader` for the test set, compute the percentage of correct predictions using the highest probability prediction.\n",
        "\n",
        "If your accuracy is over 70%, great work!\n",
        "This is a hard task to exceed 70% on.\n",
        "\n",
        "If your accuracy is under 45%, you'll need to make improvements.\n",
        "Go back and check your model architecture, loss function, and optimizer to make sure they're appropriate for an image classification task."
      ]
    },
    {
      "cell_type": "code",
      "execution_count": null,
      "metadata": {
        "colab": {
          "base_uri": "https://localhost:8080/"
        },
        "id": "7hiyU4sGqxH1",
        "outputId": "18e20c14-6bd7-469b-b5ee-454f474c8041"
      },
      "outputs": [
        {
          "output_type": "stream",
          "name": "stdout",
          "text": [
            "Accuracy:  tensor(42.6800)\n",
            "Done\n"
          ]
        }
      ],
      "source": [
        "## YOUR CODE HERE ##\n",
        "# Testing the model\n",
        "num_correct = 0\n",
        "total_num = 0\n",
        "\n",
        "with torch.no_grad():\n",
        "    for data in testloader:\n",
        "        images, labels = data\n",
        "        # calculate outputs\n",
        "        outputs = net(Variable(images.to(device))).cpu()\n",
        "        _, predicted = torch.max(outputs.data, 1)\n",
        "        total_num += labels.size(0)\n",
        "        num_correct += (predicted == labels).sum()\n",
        "    accuracy = 100 * num_correct / total_num\n",
        "    print(f'Accuracy: ', accuracy)\n",
        "print('Done')"
      ]
    },
    {
      "cell_type": "markdown",
      "source": [
        "#### Note:\n",
        "Since the GPU does not work in my workspace, I ran this block with enough iterations to achieve an accuracy score of 42.6800%."
      ],
      "metadata": {
        "id": "YSXfPDuU3zrH"
      }
    },
    {
      "cell_type": "markdown",
      "metadata": {
        "id": "m4m8bB5zqxH1"
      },
      "source": [
        "## Saving your model\n",
        "Using `torch.save`, save your model for future loading."
      ]
    },
    {
      "cell_type": "code",
      "source": [
        "torch.save(net.state_dict(), 'model.pth')"
      ],
      "metadata": {
        "id": "liZ_Cq2P49-5"
      },
      "execution_count": null,
      "outputs": []
    },
    {
      "cell_type": "markdown",
      "metadata": {
        "id": "PQ-i-jFdqxH1"
      },
      "source": [
        "## Make a Recommendation\n",
        "\n",
        "Based on your evaluation, what is your recommendation on whether to build or buy? Explain your reasoning below.\n",
        "\n",
        "Some things to consider as you formulate your recommendation:\n",
        "* How does your model compare to Detectocorp's model?\n",
        "* How does it compare to the far more advanced solutions in the literature?\n",
        "* What did you do to get the accuracy you achieved?\n",
        "* Is it necessary to improve this accuracy? If so, what sort of work would be involved in improving it?"
      ]
    },
    {
      "cell_type": "markdown",
      "metadata": {
        "id": "dQrOC40iqxH1"
      },
      "source": [
        "In this project, I built an image classifier from a neural network model using PyTorch. The model was trained and tested on the CIFAR-10 dataset. The GPU feature in the project workspace was not working, but I used CPU to test my model's accuracy and it was 42.6800%, which is lower than the accuracy obtained by the Detectocorp model. and I believe that if the GPU was working, I would be able to achieve a higher accuracy score.\n",
        "\n",
        "My accuracy is lower than the advanced solutions in the literature and it will be necessary to improve the accuracy of my model. Overall, my model will not outperform one of the best models, so my recommendation is to buy."
      ]
    },
    {
      "cell_type": "markdown",
      "metadata": {
        "id": "DK9FSnj9qxH1"
      },
      "source": [
        "## Submit Your Project\n",
        "\n",
        "When you are finished editing the notebook and are ready to turn it in, simply click the **SUBMIT PROJECT** button in the lower right.\n",
        "\n",
        "Once you submit your project, we'll review your work and give you feedback if there's anything that you need to work on. If you'd like to see the exact points that your reviewer will check for when looking at your work, you can have a look over the project [rubric](https://review.udacity.com/#!/rubrics/3077/view)."
      ]
    }
  ],
  "metadata": {
    "kernelspec": {
      "display_name": "Python 3",
      "language": "python",
      "name": "python3"
    },
    "language_info": {
      "codemirror_mode": {
        "name": "ipython",
        "version": 3
      },
      "file_extension": ".py",
      "mimetype": "text/x-python",
      "name": "python",
      "nbconvert_exporter": "python",
      "pygments_lexer": "ipython3",
      "version": "3.6.3"
    },
    "colab": {
      "provenance": []
    }
  },
  "nbformat": 4,
  "nbformat_minor": 0
}